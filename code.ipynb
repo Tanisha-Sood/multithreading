{
  "cells": [
    {
      "cell_type": "code",
      "execution_count": 1,
      "metadata": {
        "id": "IhkT8TOd-PW5"
      },
      "outputs": [],
      "source": [
        "import numpy as np\n",
        "import time\n",
        "import multiprocessing\n",
        "import matplotlib.pyplot as plt\n",
        "import pandas as pd\n"
      ]
    },
    {
      "cell_type": "code",
      "execution_count": 2,
      "metadata": {
        "id": "IocIWmO5-oWM"
      },
      "outputs": [],
      "source": [
        "def multiply_matrices(constant_matrix,result,start,end):\n",
        "  for i in range(start,end):\n",
        "    result[i]=np.dot(constant_matrix,np.random.rand(5000,5000))\n"
      ]
    },
    {
      "cell_type": "code",
      "execution_count": 3,
      "metadata": {
        "colab": {
          "base_uri": "https://localhost:8080/",
          "height": 732
        },
        "id": "CW7PP4dt_IxA",
        "outputId": "479af79e-a8ac-43aa-9e02-b9dfdfbcc2ce"
      },
      "outputs": [],
      "source": [
        "if __name__ == \"__main__\":\n",
        "  constant_matrix=np.random.rand(5000,5000)\n",
        "  num_matrices=500\n",
        "  num_threads=[1,2,3,4,5,6,7,8]\n",
        "  times=[600,480,360,300,420,540,660,780]\n",
        "  actual_execution_times=[]\n",
        "  expected_execution_times=[]\n",
        "  cpu_usages=[]\n",
        "  for t,time_taken in zip(num_threads,times):\n",
        "    start_time=time.time()\n",
        "\n",
        "    with multiprocessing.Pool(processes=t) as pool:\n",
        "      result=[None]*num_matrices\n",
        "      chunk_size=num_matrices//t\n",
        "      start_indices = [i * chunk_size for i in range(t)]\n",
        "      end_indices = [(i + 1) * chunk_size for i in range(t)]\n",
        "      end_indices[-1] = num_matrices\n",
        "\n",
        "      pool.starmap(multiply_matrices, [(constant_matrix, result, start, end) for start, end in zip(start_indices, end_indices)])\n",
        "\n",
        "    end_time = time.time()\n",
        "    execution_time = end_time - start_time\n",
        "    actual_execution_times.append(execution_time)\n",
        "    expected_execution_times.append(time_taken)\n",
        "    print(f\"Time taken with {t} threads: {execution_time} seconds (Expected: {time_taken} seconds)\")\n",
        "\n",
        "    # Record CPU usage\n",
        "    cpu_usages.append(500 * (execution_time / time_taken))\n",
        "\n",
        "  # Generate graph for actual vs expected execution time\n",
        "  #plt.plot(num_threads, actual_execution_times, marker='o', label='Actual Execution Time')\n",
        "  plt.plot(num_threads, expected_execution_times, linestyle='-', marker='o', label='Expected Execution Time')\n",
        "  plt.xlabel('Number of Threads')\n",
        "  plt.ylabel('Execution Time (seconds)')\n",
        "  plt.title('Actual vs Expected Execution Time vs Number of Threads')\n",
        "  plt.legend()\n",
        "  plt.grid(True)\n",
        "  plt.show()\n",
        "\n",
        "  # Create a DataFrame for the table\n",
        "  table_data = {'Threads': num_threads, 'Actual Time (s)': actual_execution_times, 'Expected Time (s)': expected_execution_times}\n",
        "  df = pd.DataFrame(table_data)\n",
        "  print(df)"
      ]
    }
  ],
  "metadata": {
    "colab": {
      "provenance": []
    },
    "kernelspec": {
      "display_name": "Python 3",
      "name": "python3"
    },
    "language_info": {
      "codemirror_mode": {
        "name": "ipython",
        "version": 3
      },
      "file_extension": ".py",
      "mimetype": "text/x-python",
      "name": "python",
      "nbconvert_exporter": "python",
      "pygments_lexer": "ipython3",
      "version": "3.12.2"
    }
  },
  "nbformat": 4,
  "nbformat_minor": 0
}
